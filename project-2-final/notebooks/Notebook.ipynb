{
 "cells": [
  {
   "cell_type": "markdown",
   "metadata": {},
   "source": [
    "# Modelo Relacional\n",
    "\n",
    "Categoria(_id_, nome)\n",
    "\n",
    "Regiao(_id_, nome)\n",
    "\n",
    "Grupo(_id_, nome)\n",
    "\n",
    "Receita(_id_, titulo, fonte, instrucoes, regiao_id, categoria_id)\n",
    "  regiao_id chave estrangeira -> Regiao(id)\n",
    "  categoria_id chave estrangeira -> Categoria(id)\n",
    "\n",
    "Ingrediente(_id_, nome, grupo_id)\n",
    "  grupo_id chave estrangeira -> Grupo(id)\n",
    "\n",
    "ReceitaIngrediente(_receita_id_, _ingrediente_id_, qtde)\n",
    "  _receita_id_ chave estrangeira -> Receita(id)\n",
    "  _ingrediente_id_ chave estrangeira -> Ingrediente(id)\n",
    "\n",
    "Nutriente(_id_, nome)\n",
    "\n",
    "IngredienteNutriente(_ingrediente_id_, _nutriente_id_, valor, min, max)\n",
    "  _ingrediente_id_ chave estrangeira -> Ingrediente(id)\n",
    "  _nutriente_id_ chave estrangeira -> Nutriente(id)\n",
    "\n",
    "ComponenteQuimico(_id_, nome, formula)\n",
    "\n",
    "IngredienteComponenteQuimico(_ingrediente_id_, _componenteQuimico_id_)\n",
    "  _ingrediente_id_ chave estrangeira -> Ingrediente(id)\n",
    "  _componenteQuimico_id_ chave estrangeira -> ComponenteQuimico(id)\n"
   ]
  },
  {
   "cell_type": "code",
   "execution_count": 1,
   "metadata": {
    "vscode": {
     "languageId": "sql"
    }
   },
   "outputs": [],
   "source": [
    "%defaultDatasource jdbc:h2:mem:db"
   ]
  },
  {
   "cell_type": "code",
   "execution_count": 11,
   "metadata": {
    "vscode": {
     "languageId": "sql"
    }
   },
   "outputs": [],
   "source": [
    "DROP TABLE IF EXISTS Categoria;\n",
    "DROP TABLE IF EXISTS Regiao;\n",
    "DROP TABLE IF EXISTS Grupo;\n",
    "DROP TABLE IF EXISTS Receita;\n",
    "DROP TABLE IF EXISTS Ingrediente;\n",
    "DROP TABLE IF EXISTS ReceitaIngrediente;\n",
    "DROP TABLE IF EXISTS Nutriente;\n",
    "DROP TABLE IF EXISTS IngredienteNutriente;\n",
    "DROP TABLE IF EXISTS ComponenteQuimico;\n",
    "DROP TABLE IF EXISTS IngredienteComponenteQuimico;\n",
    "\n",
    "CREATE TABLE Categoria (\n",
    "  id INT PRIMARY KEY,\n",
    "  nome VARCHAR(255) NOT NULL\n",
    ") AS SELECT\n",
    "  Id, Name\n",
    "FROM CSVREAD('p_categories.csv');\n",
    "\n",
    "\n",
    "CREATE TABLE Regiao (\n",
    "  id INT PRIMARY KEY,\n",
    "  nome VARCHAR(255) NOT NULL\n",
    ") AS SELECT\n",
    "  Id, Name\n",
    "FROM CSVREAD('p_regions.csv');\n",
    "\n",
    "\n",
    "CREATE TABLE Grupo (\n",
    "  id INT PRIMARY KEY,\n",
    "  nome VARCHAR(255),\n",
    ") AS SELECT\n",
    "  id, description_group\n",
    "FROM CSVREAD('p_groups.csv');\n",
    "\n",
    "\n",
    "CREATE TABLE Receita (\n",
    "  id INT PRIMARY KEY,\n",
    "  titulo VARCHAR(255) NOT NULL,\n",
    "  categoria_id INT,\n",
    "  regiao_id INT,\n",
    "  FOREIGN KEY (regiao_id) REFERENCES Regiao(id),\n",
    "  FOREIGN KEY (categoria_id) REFERENCES Categoria(id)\n",
    ") AS SELECT\n",
    "  id_recipe, name_recipe, category_id, region_id\n",
    "FROM CSVREAD('p_recipes.csv');\n",
    "\n",
    "\n",
    "CREATE TABLE Ingrediente (\n",
    "  id INT PRIMARY KEY,\n",
    "  nome VARCHAR(255) NOT NULL,\n",
    "  description CHAR, \n",
    "  grupo_id INT,\n",
    "  FOREIGN KEY (grupo_id) REFERENCES Grupo(id)\n",
    ") AS SELECT\n",
    "  id, name, description, group_id\n",
    "FROM CSVREAD('p_ingredients.csv');\n",
    "\n",
    "\n",
    "CREATE TABLE ReceitaIngrediente (\n",
    "  ingrediente_id INT,\n",
    "  receita_id INT,\n",
    "  qtde Varchar(50),\n",
    "  FOREIGN KEY (receita_id) REFERENCES Receita(id),\n",
    "  FOREIGN KEY (ingrediente_id) REFERENCES Ingrediente(id)\n",
    ") AS SELECT\n",
    "   id_ingredient, id_recipe, qtde\n",
    "FROM CSVREAD('p_ingredients_recipes.csv');\n",
    "\n",
    "\n",
    "CREATE TABLE Nutriente (\n",
    "  id INT PRIMARY KEY,\n",
    "  public_id VARCHAR(255),\n",
    "  legacy_id INT,\n",
    "  nome VARCHAR(255) NOT NULL\n",
    ") AS SELECT\n",
    "  nutrient_id, public_id, legacy_id, name\n",
    "FROM CSVREAD('p_nutrients.csv');\n",
    "\n",
    "\n",
    "CREATE TABLE IngredienteNutriente (\n",
    "  ingrediente_id INT,\n",
    "  nutriente_id INT,\n",
    "  valor DOUBLE,\n",
    "  min DOUBLE,\n",
    "  max DOUBLE,\n",
    "  FOREIGN KEY (ingrediente_id) REFERENCES Ingrediente(id),\n",
    "  FOREIGN KEY (nutriente_id) REFERENCES Nutriente(id)\n",
    ") AS SELECT\n",
    "  id_ingredient, id_nutrient, value, min, max\n",
    "FROM CSVREAD('p_ingredients_nutrients.csv');\n",
    "\n",
    "\n",
    "CREATE TABLE ComponenteQuimico (\n",
    "  id INT PRIMARY KEY,\n",
    "  nome VARCHAR(255) NOT NULL,\n",
    "  formula VARCHAR(255)\n",
    ") AS SELECT\n",
    "  compound_id, public_id, name\n",
    "FROM CSVREAD('p_compounds.csv');\n",
    "\n",
    "\n",
    "CREATE TABLE IngredienteComponenteQuimico (\n",
    "  ingrediente_id INT,\n",
    "  componenteQuimico_id INT,\n",
    "  FOREIGN KEY (ingrediente_id) REFERENCES Ingrediente(id),\n",
    "  FOREIGN KEY (componenteQuimico_id) REFERENCES ComponenteQuimico(id)\n",
    ") AS SELECT\n",
    "  id_ingredient, id_compound\n",
    "FROM CSVREAD('p_ingredients_compounds2.csv');"
   ]
  },
  {
   "cell_type": "code",
   "execution_count": 12,
   "metadata": {
    "vscode": {
     "languageId": "sql"
    }
   },
   "outputs": [
    {
     "data": {
      "application/vnd.code.notebook.error": {
       "message": "INVALID mime type: method. Must be in the format \"type/subtype[;optionalparameter]\"",
       "name": "Error",
       "stack": "Error: INVALID mime type: method. Must be in the format \"type/subtype[;optionalparameter]\"\n\tat new Yt (c:\\Users\\rodri\\AppData\\Local\\Programs\\Microsoft VS Code\\resources\\app\\out\\vs\\workbench\\api\\node\\extensionHostProcess.js:121:45111)\n\tat Yt.text (c:\\Users\\rodri\\AppData\\Local\\Programs\\Microsoft VS Code\\resources\\app\\out\\vs\\workbench\\api\\node\\extensionHostProcess.js:121:44923)\n\tat c (c:\\Users\\rodri\\AppData\\Local\\Programs\\Microsoft VS Code\\resources\\app\\extensions\\ipynb\\dist\\ipynbMain.js:1:147680)\n\tat f (c:\\Users\\rodri\\AppData\\Local\\Programs\\Microsoft VS Code\\resources\\app\\extensions\\ipynb\\dist\\ipynbMain.js:1:148456)\n\tat h (c:\\Users\\rodri\\AppData\\Local\\Programs\\Microsoft VS Code\\resources\\app\\extensions\\ipynb\\dist\\ipynbMain.js:1:149195)\n\tat Array.map (<anonymous>)\n\tat c:\\Users\\rodri\\AppData\\Local\\Programs\\Microsoft VS Code\\resources\\app\\extensions\\ipynb\\dist\\ipynbMain.js:1:150304\n\tat c:\\Users\\rodri\\AppData\\Local\\Programs\\Microsoft VS Code\\resources\\app\\extensions\\ipynb\\dist\\ipynbMain.js:1:150621\n\tat c:\\Users\\rodri\\AppData\\Local\\Programs\\Microsoft VS Code\\resources\\app\\extensions\\ipynb\\dist\\ipynbMain.js:1:150628\n\tat Array.map (<anonymous>)\n\tat e.$d (c:\\Users\\rodri\\AppData\\Local\\Programs\\Microsoft VS Code\\resources\\app\\extensions\\ipynb\\dist\\ipynbMain.js:1:149880)\n\tat e.$m.deserializeNotebook (c:\\Users\\rodri\\AppData\\Local\\Programs\\Microsoft VS Code\\resources\\app\\extensions\\ipynb\\dist\\ipynbMain.js:1:161467)\n\tat t.$dataToNotebook (c:\\Users\\rodri\\AppData\\Local\\Programs\\Microsoft VS Code\\resources\\app\\out\\vs\\workbench\\api\\node\\extensionHostProcess.js:127:93269)\n\tat n.S (c:\\Users\\rodri\\AppData\\Local\\Programs\\Microsoft VS Code\\resources\\app\\out\\vs\\workbench\\api\\node\\extensionHostProcess.js:134:10836)\n\tat n.Q (c:\\Users\\rodri\\AppData\\Local\\Programs\\Microsoft VS Code\\resources\\app\\out\\vs\\workbench\\api\\node\\extensionHostProcess.js:134:10602)\n\tat n.M (c:\\Users\\rodri\\AppData\\Local\\Programs\\Microsoft VS Code\\resources\\app\\out\\vs\\workbench\\api\\node\\extensionHostProcess.js:134:9647)\n\tat n.L (c:\\Users\\rodri\\AppData\\Local\\Programs\\Microsoft VS Code\\resources\\app\\out\\vs\\workbench\\api\\node\\extensionHostProcess.js:134:8901)\n\tat h.value (c:\\Users\\rodri\\AppData\\Local\\Programs\\Microsoft VS Code\\resources\\app\\out\\vs\\workbench\\api\\node\\extensionHostProcess.js:134:7565)\n\tat c.y (c:\\Users\\rodri\\AppData\\Local\\Programs\\Microsoft VS Code\\resources\\app\\out\\vs\\workbench\\api\\node\\extensionHostProcess.js:80:1902)\n\tat c.fire (c:\\Users\\rodri\\AppData\\Local\\Programs\\Microsoft VS Code\\resources\\app\\out\\vs\\workbench\\api\\node\\extensionHostProcess.js:80:2119)\n\tat d.fire (c:\\Users\\rodri\\AppData\\Local\\Programs\\Microsoft VS Code\\resources\\app\\out\\vs\\workbench\\api\\node\\extensionHostProcess.js:96:14047)\n\tat h.value (c:\\Users\\rodri\\AppData\\Local\\Programs\\Microsoft VS Code\\resources\\app\\out\\vs\\workbench\\api\\node\\extensionHostProcess.js:153:7918)\n\tat c.y (c:\\Users\\rodri\\AppData\\Local\\Programs\\Microsoft VS Code\\resources\\app\\out\\vs\\workbench\\api\\node\\extensionHostProcess.js:80:1902)\n\tat c.fire (c:\\Users\\rodri\\AppData\\Local\\Programs\\Microsoft VS Code\\resources\\app\\out\\vs\\workbench\\api\\node\\extensionHostProcess.js:80:2119)\n\tat d.fire (c:\\Users\\rodri\\AppData\\Local\\Programs\\Microsoft VS Code\\resources\\app\\out\\vs\\workbench\\api\\node\\extensionHostProcess.js:96:14047)\n\tat MessagePortMain.<anonymous> (c:\\Users\\rodri\\AppData\\Local\\Programs\\Microsoft VS Code\\resources\\app\\out\\vs\\workbench\\api\\node\\extensionHostProcess.js:153:6198)\n\tat MessagePortMain.emit (node:events:513:28)\n\tat MessagePortMain._internalPort.emit (node:electron/js2c/utility_init:2:367)"
      },
      "application/vnd.jupyter.widget-view+json": {
       "model_id": "29da0a6d-ee57-4333-88d9-27886e7229ed",
       "version_major": 2,
       "version_minor": 0
      }
     },
     "metadata": {},
     "output_type": "display_data"
    }
   ],
   "source": [
    "-- Quais os ingredientes que compõem determinadas receitas?\n",
    "SELECT r.titulo AS receita, i.nome AS ingrediente, ri.qtde\n",
    "FROM ReceitaIngrediente ri\n",
    "JOIN Receita r ON ri.receita_id = r.id\n",
    "JOIN Ingrediente i ON ri.ingrediente_id = i.id\n",
    "WHERE r.titulo = 'Sushi';"
   ]
  },
  {
   "cell_type": "code",
   "execution_count": 19,
   "metadata": {
    "vscode": {
     "languageId": "sql"
    }
   },
   "outputs": [
    {
     "data": {
      "application/vnd.code.notebook.error": {
       "message": "INVALID mime type: method. Must be in the format \"type/subtype[;optionalparameter]\"",
       "name": "Error",
       "stack": "Error: INVALID mime type: method. Must be in the format \"type/subtype[;optionalparameter]\"\n\tat new Yt (c:\\Users\\rodri\\AppData\\Local\\Programs\\Microsoft VS Code\\resources\\app\\out\\vs\\workbench\\api\\node\\extensionHostProcess.js:121:45111)\n\tat Yt.text (c:\\Users\\rodri\\AppData\\Local\\Programs\\Microsoft VS Code\\resources\\app\\out\\vs\\workbench\\api\\node\\extensionHostProcess.js:121:44923)\n\tat c (c:\\Users\\rodri\\AppData\\Local\\Programs\\Microsoft VS Code\\resources\\app\\extensions\\ipynb\\dist\\ipynbMain.js:1:147680)\n\tat f (c:\\Users\\rodri\\AppData\\Local\\Programs\\Microsoft VS Code\\resources\\app\\extensions\\ipynb\\dist\\ipynbMain.js:1:148456)\n\tat h (c:\\Users\\rodri\\AppData\\Local\\Programs\\Microsoft VS Code\\resources\\app\\extensions\\ipynb\\dist\\ipynbMain.js:1:149195)\n\tat Array.map (<anonymous>)\n\tat c:\\Users\\rodri\\AppData\\Local\\Programs\\Microsoft VS Code\\resources\\app\\extensions\\ipynb\\dist\\ipynbMain.js:1:150304\n\tat c:\\Users\\rodri\\AppData\\Local\\Programs\\Microsoft VS Code\\resources\\app\\extensions\\ipynb\\dist\\ipynbMain.js:1:150621\n\tat c:\\Users\\rodri\\AppData\\Local\\Programs\\Microsoft VS Code\\resources\\app\\extensions\\ipynb\\dist\\ipynbMain.js:1:150628\n\tat Array.map (<anonymous>)\n\tat e.$d (c:\\Users\\rodri\\AppData\\Local\\Programs\\Microsoft VS Code\\resources\\app\\extensions\\ipynb\\dist\\ipynbMain.js:1:149880)\n\tat e.$m.deserializeNotebook (c:\\Users\\rodri\\AppData\\Local\\Programs\\Microsoft VS Code\\resources\\app\\extensions\\ipynb\\dist\\ipynbMain.js:1:161467)\n\tat t.$dataToNotebook (c:\\Users\\rodri\\AppData\\Local\\Programs\\Microsoft VS Code\\resources\\app\\out\\vs\\workbench\\api\\node\\extensionHostProcess.js:127:93269)\n\tat n.S (c:\\Users\\rodri\\AppData\\Local\\Programs\\Microsoft VS Code\\resources\\app\\out\\vs\\workbench\\api\\node\\extensionHostProcess.js:134:10836)\n\tat n.Q (c:\\Users\\rodri\\AppData\\Local\\Programs\\Microsoft VS Code\\resources\\app\\out\\vs\\workbench\\api\\node\\extensionHostProcess.js:134:10602)\n\tat n.M (c:\\Users\\rodri\\AppData\\Local\\Programs\\Microsoft VS Code\\resources\\app\\out\\vs\\workbench\\api\\node\\extensionHostProcess.js:134:9647)\n\tat n.L (c:\\Users\\rodri\\AppData\\Local\\Programs\\Microsoft VS Code\\resources\\app\\out\\vs\\workbench\\api\\node\\extensionHostProcess.js:134:8901)\n\tat h.value (c:\\Users\\rodri\\AppData\\Local\\Programs\\Microsoft VS Code\\resources\\app\\out\\vs\\workbench\\api\\node\\extensionHostProcess.js:134:7565)\n\tat c.y (c:\\Users\\rodri\\AppData\\Local\\Programs\\Microsoft VS Code\\resources\\app\\out\\vs\\workbench\\api\\node\\extensionHostProcess.js:80:1902)\n\tat c.fire (c:\\Users\\rodri\\AppData\\Local\\Programs\\Microsoft VS Code\\resources\\app\\out\\vs\\workbench\\api\\node\\extensionHostProcess.js:80:2119)\n\tat d.fire (c:\\Users\\rodri\\AppData\\Local\\Programs\\Microsoft VS Code\\resources\\app\\out\\vs\\workbench\\api\\node\\extensionHostProcess.js:96:14047)\n\tat h.value (c:\\Users\\rodri\\AppData\\Local\\Programs\\Microsoft VS Code\\resources\\app\\out\\vs\\workbench\\api\\node\\extensionHostProcess.js:153:7918)\n\tat c.y (c:\\Users\\rodri\\AppData\\Local\\Programs\\Microsoft VS Code\\resources\\app\\out\\vs\\workbench\\api\\node\\extensionHostProcess.js:80:1902)\n\tat c.fire (c:\\Users\\rodri\\AppData\\Local\\Programs\\Microsoft VS Code\\resources\\app\\out\\vs\\workbench\\api\\node\\extensionHostProcess.js:80:2119)\n\tat d.fire (c:\\Users\\rodri\\AppData\\Local\\Programs\\Microsoft VS Code\\resources\\app\\out\\vs\\workbench\\api\\node\\extensionHostProcess.js:96:14047)\n\tat MessagePortMain.<anonymous> (c:\\Users\\rodri\\AppData\\Local\\Programs\\Microsoft VS Code\\resources\\app\\out\\vs\\workbench\\api\\node\\extensionHostProcess.js:153:6198)\n\tat MessagePortMain.emit (node:events:513:28)\n\tat MessagePortMain._internalPort.emit (node:electron/js2c/utility_init:2:367)"
      },
      "application/vnd.jupyter.widget-view+json": {
       "model_id": "96ff3f64-0d54-40bb-990b-cadb8026d03c",
       "version_major": 2,
       "version_minor": 0
      }
     },
     "metadata": {},
     "output_type": "display_data"
    }
   ],
   "source": [
    "-- Quais os ingredientes mais consumidos e em cada região?\n",
    "SELECT\n",
    "  R.regiao_id,\n",
    "  I.nome AS ingrediente,\n",
    "  COUNT(*) AS total_consumido\n",
    "FROM\n",
    "  ReceitaIngrediente RI\n",
    "  JOIN Receita R ON RI.receita_id = R.id\n",
    "  JOIN Ingrediente I ON RI.ingrediente_id = I.id\n",
    "GROUP BY\n",
    "  R.regiao_id,\n",
    "  I.nome\n",
    "ORDER BY\n",
    "  R.regiao_id,\n",
    "  total_consumido DESC;"
   ]
  },
  {
   "cell_type": "code",
   "execution_count": 17,
   "metadata": {
    "vscode": {
     "languageId": "sql"
    }
   },
   "outputs": [
    {
     "data": {
      "application/vnd.code.notebook.error": {
       "message": "INVALID mime type: method. Must be in the format \"type/subtype[;optionalparameter]\"",
       "name": "Error",
       "stack": "Error: INVALID mime type: method. Must be in the format \"type/subtype[;optionalparameter]\"\n\tat new Yt (c:\\Users\\rodri\\AppData\\Local\\Programs\\Microsoft VS Code\\resources\\app\\out\\vs\\workbench\\api\\node\\extensionHostProcess.js:121:45111)\n\tat Yt.text (c:\\Users\\rodri\\AppData\\Local\\Programs\\Microsoft VS Code\\resources\\app\\out\\vs\\workbench\\api\\node\\extensionHostProcess.js:121:44923)\n\tat c (c:\\Users\\rodri\\AppData\\Local\\Programs\\Microsoft VS Code\\resources\\app\\extensions\\ipynb\\dist\\ipynbMain.js:1:147680)\n\tat f (c:\\Users\\rodri\\AppData\\Local\\Programs\\Microsoft VS Code\\resources\\app\\extensions\\ipynb\\dist\\ipynbMain.js:1:148456)\n\tat h (c:\\Users\\rodri\\AppData\\Local\\Programs\\Microsoft VS Code\\resources\\app\\extensions\\ipynb\\dist\\ipynbMain.js:1:149195)\n\tat Array.map (<anonymous>)\n\tat c:\\Users\\rodri\\AppData\\Local\\Programs\\Microsoft VS Code\\resources\\app\\extensions\\ipynb\\dist\\ipynbMain.js:1:150304\n\tat c:\\Users\\rodri\\AppData\\Local\\Programs\\Microsoft VS Code\\resources\\app\\extensions\\ipynb\\dist\\ipynbMain.js:1:150621\n\tat c:\\Users\\rodri\\AppData\\Local\\Programs\\Microsoft VS Code\\resources\\app\\extensions\\ipynb\\dist\\ipynbMain.js:1:150628\n\tat Array.map (<anonymous>)\n\tat e.$d (c:\\Users\\rodri\\AppData\\Local\\Programs\\Microsoft VS Code\\resources\\app\\extensions\\ipynb\\dist\\ipynbMain.js:1:149880)\n\tat e.$m.deserializeNotebook (c:\\Users\\rodri\\AppData\\Local\\Programs\\Microsoft VS Code\\resources\\app\\extensions\\ipynb\\dist\\ipynbMain.js:1:161467)\n\tat t.$dataToNotebook (c:\\Users\\rodri\\AppData\\Local\\Programs\\Microsoft VS Code\\resources\\app\\out\\vs\\workbench\\api\\node\\extensionHostProcess.js:127:93269)\n\tat n.S (c:\\Users\\rodri\\AppData\\Local\\Programs\\Microsoft VS Code\\resources\\app\\out\\vs\\workbench\\api\\node\\extensionHostProcess.js:134:10836)\n\tat n.Q (c:\\Users\\rodri\\AppData\\Local\\Programs\\Microsoft VS Code\\resources\\app\\out\\vs\\workbench\\api\\node\\extensionHostProcess.js:134:10602)\n\tat n.M (c:\\Users\\rodri\\AppData\\Local\\Programs\\Microsoft VS Code\\resources\\app\\out\\vs\\workbench\\api\\node\\extensionHostProcess.js:134:9647)\n\tat n.L (c:\\Users\\rodri\\AppData\\Local\\Programs\\Microsoft VS Code\\resources\\app\\out\\vs\\workbench\\api\\node\\extensionHostProcess.js:134:8901)\n\tat h.value (c:\\Users\\rodri\\AppData\\Local\\Programs\\Microsoft VS Code\\resources\\app\\out\\vs\\workbench\\api\\node\\extensionHostProcess.js:134:7565)\n\tat c.y (c:\\Users\\rodri\\AppData\\Local\\Programs\\Microsoft VS Code\\resources\\app\\out\\vs\\workbench\\api\\node\\extensionHostProcess.js:80:1902)\n\tat c.fire (c:\\Users\\rodri\\AppData\\Local\\Programs\\Microsoft VS Code\\resources\\app\\out\\vs\\workbench\\api\\node\\extensionHostProcess.js:80:2119)\n\tat d.fire (c:\\Users\\rodri\\AppData\\Local\\Programs\\Microsoft VS Code\\resources\\app\\out\\vs\\workbench\\api\\node\\extensionHostProcess.js:96:14047)\n\tat h.value (c:\\Users\\rodri\\AppData\\Local\\Programs\\Microsoft VS Code\\resources\\app\\out\\vs\\workbench\\api\\node\\extensionHostProcess.js:153:7918)\n\tat c.y (c:\\Users\\rodri\\AppData\\Local\\Programs\\Microsoft VS Code\\resources\\app\\out\\vs\\workbench\\api\\node\\extensionHostProcess.js:80:1902)\n\tat c.fire (c:\\Users\\rodri\\AppData\\Local\\Programs\\Microsoft VS Code\\resources\\app\\out\\vs\\workbench\\api\\node\\extensionHostProcess.js:80:2119)\n\tat d.fire (c:\\Users\\rodri\\AppData\\Local\\Programs\\Microsoft VS Code\\resources\\app\\out\\vs\\workbench\\api\\node\\extensionHostProcess.js:96:14047)\n\tat MessagePortMain.<anonymous> (c:\\Users\\rodri\\AppData\\Local\\Programs\\Microsoft VS Code\\resources\\app\\out\\vs\\workbench\\api\\node\\extensionHostProcess.js:153:6198)\n\tat MessagePortMain.emit (node:events:513:28)\n\tat MessagePortMain._internalPort.emit (node:electron/js2c/utility_init:2:367)"
      },
      "application/vnd.jupyter.widget-view+json": {
       "model_id": "9ab756f1-2aa7-4e6b-ba43-5550598bf8e3",
       "version_major": 2,
       "version_minor": 0
      }
     },
     "metadata": {},
     "output_type": "display_data"
    }
   ],
   "source": [
    "-- Quais os nutrientes mais consumidos em cada região?\n",
    "SELECT r.regiao_id, n.nome AS nutriente, SUM(in.valor) AS quantidade_consumida\n",
    "FROM IngredienteNutriente in\n",
    "JOIN Nutriente n ON in.nutriente_id = n.idS\n",
    "JOIN Ingrediente i ON in.ingrediente_id = i.id\n",
    "JOIN ReceitaIngrediente ri ON i.id = ri.ingrediente_id\n",
    "JOIN Receita r ON ri.receita_id = r.id\n",
    "GROUP BY r.regiao_id, n.nome\n",
    "ORDER BY quantidade_consumida DESC;"
   ]
  },
  {
   "cell_type": "code",
   "execution_count": 8,
   "metadata": {
    "vscode": {
     "languageId": "sql"
    }
   },
   "outputs": [
    {
     "data": {
      "application/vnd.code.notebook.error": {
       "message": "INVALID mime type: method. Must be in the format \"type/subtype[;optionalparameter]\"",
       "name": "Error",
       "stack": "Error: INVALID mime type: method. Must be in the format \"type/subtype[;optionalparameter]\"\n\tat new Yt (c:\\Users\\rodri\\AppData\\Local\\Programs\\Microsoft VS Code\\resources\\app\\out\\vs\\workbench\\api\\node\\extensionHostProcess.js:121:45111)\n\tat Yt.text (c:\\Users\\rodri\\AppData\\Local\\Programs\\Microsoft VS Code\\resources\\app\\out\\vs\\workbench\\api\\node\\extensionHostProcess.js:121:44923)\n\tat c (c:\\Users\\rodri\\AppData\\Local\\Programs\\Microsoft VS Code\\resources\\app\\extensions\\ipynb\\dist\\ipynbMain.js:1:147680)\n\tat f (c:\\Users\\rodri\\AppData\\Local\\Programs\\Microsoft VS Code\\resources\\app\\extensions\\ipynb\\dist\\ipynbMain.js:1:148456)\n\tat h (c:\\Users\\rodri\\AppData\\Local\\Programs\\Microsoft VS Code\\resources\\app\\extensions\\ipynb\\dist\\ipynbMain.js:1:149195)\n\tat Array.map (<anonymous>)\n\tat c:\\Users\\rodri\\AppData\\Local\\Programs\\Microsoft VS Code\\resources\\app\\extensions\\ipynb\\dist\\ipynbMain.js:1:150304\n\tat c:\\Users\\rodri\\AppData\\Local\\Programs\\Microsoft VS Code\\resources\\app\\extensions\\ipynb\\dist\\ipynbMain.js:1:150621\n\tat c:\\Users\\rodri\\AppData\\Local\\Programs\\Microsoft VS Code\\resources\\app\\extensions\\ipynb\\dist\\ipynbMain.js:1:150628\n\tat Array.map (<anonymous>)\n\tat e.$d (c:\\Users\\rodri\\AppData\\Local\\Programs\\Microsoft VS Code\\resources\\app\\extensions\\ipynb\\dist\\ipynbMain.js:1:149880)\n\tat e.$m.deserializeNotebook (c:\\Users\\rodri\\AppData\\Local\\Programs\\Microsoft VS Code\\resources\\app\\extensions\\ipynb\\dist\\ipynbMain.js:1:161467)\n\tat t.$dataToNotebook (c:\\Users\\rodri\\AppData\\Local\\Programs\\Microsoft VS Code\\resources\\app\\out\\vs\\workbench\\api\\node\\extensionHostProcess.js:127:93269)\n\tat n.S (c:\\Users\\rodri\\AppData\\Local\\Programs\\Microsoft VS Code\\resources\\app\\out\\vs\\workbench\\api\\node\\extensionHostProcess.js:134:10836)\n\tat n.Q (c:\\Users\\rodri\\AppData\\Local\\Programs\\Microsoft VS Code\\resources\\app\\out\\vs\\workbench\\api\\node\\extensionHostProcess.js:134:10602)\n\tat n.M (c:\\Users\\rodri\\AppData\\Local\\Programs\\Microsoft VS Code\\resources\\app\\out\\vs\\workbench\\api\\node\\extensionHostProcess.js:134:9647)\n\tat n.L (c:\\Users\\rodri\\AppData\\Local\\Programs\\Microsoft VS Code\\resources\\app\\out\\vs\\workbench\\api\\node\\extensionHostProcess.js:134:8901)\n\tat h.value (c:\\Users\\rodri\\AppData\\Local\\Programs\\Microsoft VS Code\\resources\\app\\out\\vs\\workbench\\api\\node\\extensionHostProcess.js:134:7565)\n\tat c.y (c:\\Users\\rodri\\AppData\\Local\\Programs\\Microsoft VS Code\\resources\\app\\out\\vs\\workbench\\api\\node\\extensionHostProcess.js:80:1902)\n\tat c.fire (c:\\Users\\rodri\\AppData\\Local\\Programs\\Microsoft VS Code\\resources\\app\\out\\vs\\workbench\\api\\node\\extensionHostProcess.js:80:2119)\n\tat d.fire (c:\\Users\\rodri\\AppData\\Local\\Programs\\Microsoft VS Code\\resources\\app\\out\\vs\\workbench\\api\\node\\extensionHostProcess.js:96:14047)\n\tat h.value (c:\\Users\\rodri\\AppData\\Local\\Programs\\Microsoft VS Code\\resources\\app\\out\\vs\\workbench\\api\\node\\extensionHostProcess.js:153:7918)\n\tat c.y (c:\\Users\\rodri\\AppData\\Local\\Programs\\Microsoft VS Code\\resources\\app\\out\\vs\\workbench\\api\\node\\extensionHostProcess.js:80:1902)\n\tat c.fire (c:\\Users\\rodri\\AppData\\Local\\Programs\\Microsoft VS Code\\resources\\app\\out\\vs\\workbench\\api\\node\\extensionHostProcess.js:80:2119)\n\tat d.fire (c:\\Users\\rodri\\AppData\\Local\\Programs\\Microsoft VS Code\\resources\\app\\out\\vs\\workbench\\api\\node\\extensionHostProcess.js:96:14047)\n\tat MessagePortMain.<anonymous> (c:\\Users\\rodri\\AppData\\Local\\Programs\\Microsoft VS Code\\resources\\app\\out\\vs\\workbench\\api\\node\\extensionHostProcess.js:153:6198)\n\tat MessagePortMain.emit (node:events:513:28)\n\tat MessagePortMain._internalPort.emit (node:electron/js2c/utility_init:2:367)"
      },
      "application/vnd.jupyter.widget-view+json": {
       "model_id": "fcb61c80-be62-491b-8c7d-cdbd854a6f0b",
       "version_major": 2,
       "version_minor": 0
      }
     },
     "metadata": {},
     "output_type": "display_data"
    }
   ],
   "source": [
    "-- componentes químicos que mais aparecem em uma determinada categoria\n",
    "SELECT\n",
    "  cq.formula AS ComponenteQuimico,\n",
    "  COUNT(icq.ingrediente_id) AS Quantidade\n",
    "FROM IngredienteComponenteQuimico icq\n",
    "JOIN Ingrediente i ON icq.ingrediente_id = i.id\n",
    "JOIN Categoria c ON i.grupo_id = c.id\n",
    "JOIN ComponenteQuimico cq ON icq.componenteQuimico_id = cq.id\n",
    "WHERE c.id = 6\n",
    "GROUP BY cq.formula\n",
    "ORDER BY Quantidade DESC\n",
    "LIMIT 10;\n",
    " "
   ]
  },
  {
   "cell_type": "code",
   "execution_count": 30,
   "metadata": {
    "vscode": {
     "languageId": "sql"
    }
   },
   "outputs": [
    {
     "data": {
      "application/vnd.code.notebook.error": {
       "message": "INVALID mime type: method. Must be in the format \"type/subtype[;optionalparameter]\"",
       "name": "Error",
       "stack": "Error: INVALID mime type: method. Must be in the format \"type/subtype[;optionalparameter]\"\n\tat new Yt (c:\\Users\\rodri\\AppData\\Local\\Programs\\Microsoft VS Code\\resources\\app\\out\\vs\\workbench\\api\\node\\extensionHostProcess.js:121:45111)\n\tat Yt.text (c:\\Users\\rodri\\AppData\\Local\\Programs\\Microsoft VS Code\\resources\\app\\out\\vs\\workbench\\api\\node\\extensionHostProcess.js:121:44923)\n\tat c (c:\\Users\\rodri\\AppData\\Local\\Programs\\Microsoft VS Code\\resources\\app\\extensions\\ipynb\\dist\\ipynbMain.js:1:147680)\n\tat f (c:\\Users\\rodri\\AppData\\Local\\Programs\\Microsoft VS Code\\resources\\app\\extensions\\ipynb\\dist\\ipynbMain.js:1:148456)\n\tat h (c:\\Users\\rodri\\AppData\\Local\\Programs\\Microsoft VS Code\\resources\\app\\extensions\\ipynb\\dist\\ipynbMain.js:1:149195)\n\tat Array.map (<anonymous>)\n\tat c:\\Users\\rodri\\AppData\\Local\\Programs\\Microsoft VS Code\\resources\\app\\extensions\\ipynb\\dist\\ipynbMain.js:1:150304\n\tat c:\\Users\\rodri\\AppData\\Local\\Programs\\Microsoft VS Code\\resources\\app\\extensions\\ipynb\\dist\\ipynbMain.js:1:150621\n\tat c:\\Users\\rodri\\AppData\\Local\\Programs\\Microsoft VS Code\\resources\\app\\extensions\\ipynb\\dist\\ipynbMain.js:1:150628\n\tat Array.map (<anonymous>)\n\tat e.$d (c:\\Users\\rodri\\AppData\\Local\\Programs\\Microsoft VS Code\\resources\\app\\extensions\\ipynb\\dist\\ipynbMain.js:1:149880)\n\tat e.$m.deserializeNotebook (c:\\Users\\rodri\\AppData\\Local\\Programs\\Microsoft VS Code\\resources\\app\\extensions\\ipynb\\dist\\ipynbMain.js:1:161467)\n\tat t.$dataToNotebook (c:\\Users\\rodri\\AppData\\Local\\Programs\\Microsoft VS Code\\resources\\app\\out\\vs\\workbench\\api\\node\\extensionHostProcess.js:127:93269)\n\tat n.S (c:\\Users\\rodri\\AppData\\Local\\Programs\\Microsoft VS Code\\resources\\app\\out\\vs\\workbench\\api\\node\\extensionHostProcess.js:134:10836)\n\tat n.Q (c:\\Users\\rodri\\AppData\\Local\\Programs\\Microsoft VS Code\\resources\\app\\out\\vs\\workbench\\api\\node\\extensionHostProcess.js:134:10602)\n\tat n.M (c:\\Users\\rodri\\AppData\\Local\\Programs\\Microsoft VS Code\\resources\\app\\out\\vs\\workbench\\api\\node\\extensionHostProcess.js:134:9647)\n\tat n.L (c:\\Users\\rodri\\AppData\\Local\\Programs\\Microsoft VS Code\\resources\\app\\out\\vs\\workbench\\api\\node\\extensionHostProcess.js:134:8901)\n\tat h.value (c:\\Users\\rodri\\AppData\\Local\\Programs\\Microsoft VS Code\\resources\\app\\out\\vs\\workbench\\api\\node\\extensionHostProcess.js:134:7565)\n\tat c.y (c:\\Users\\rodri\\AppData\\Local\\Programs\\Microsoft VS Code\\resources\\app\\out\\vs\\workbench\\api\\node\\extensionHostProcess.js:80:1902)\n\tat c.fire (c:\\Users\\rodri\\AppData\\Local\\Programs\\Microsoft VS Code\\resources\\app\\out\\vs\\workbench\\api\\node\\extensionHostProcess.js:80:2119)\n\tat d.fire (c:\\Users\\rodri\\AppData\\Local\\Programs\\Microsoft VS Code\\resources\\app\\out\\vs\\workbench\\api\\node\\extensionHostProcess.js:96:14047)\n\tat h.value (c:\\Users\\rodri\\AppData\\Local\\Programs\\Microsoft VS Code\\resources\\app\\out\\vs\\workbench\\api\\node\\extensionHostProcess.js:153:7918)\n\tat c.y (c:\\Users\\rodri\\AppData\\Local\\Programs\\Microsoft VS Code\\resources\\app\\out\\vs\\workbench\\api\\node\\extensionHostProcess.js:80:1902)\n\tat c.fire (c:\\Users\\rodri\\AppData\\Local\\Programs\\Microsoft VS Code\\resources\\app\\out\\vs\\workbench\\api\\node\\extensionHostProcess.js:80:2119)\n\tat d.fire (c:\\Users\\rodri\\AppData\\Local\\Programs\\Microsoft VS Code\\resources\\app\\out\\vs\\workbench\\api\\node\\extensionHostProcess.js:96:14047)\n\tat MessagePortMain.<anonymous> (c:\\Users\\rodri\\AppData\\Local\\Programs\\Microsoft VS Code\\resources\\app\\out\\vs\\workbench\\api\\node\\extensionHostProcess.js:153:6198)\n\tat MessagePortMain.emit (node:events:513:28)\n\tat MessagePortMain._internalPort.emit (node:electron/js2c/utility_init:2:367)"
      },
      "application/vnd.jupyter.widget-view+json": {
       "model_id": "8de71ad1-a1ef-41f3-bab3-4c76d5bdb69b",
       "version_major": 2,
       "version_minor": 0
      }
     },
     "metadata": {},
     "output_type": "display_data"
    }
   ],
   "source": [
    "-- componentes químicos que menos aparecem em uma determinada categoria\n",
    "SELECT\n",
    "  cq.formula AS ComponenteQuimico,\n",
    "  COUNT(icq.ingrediente_id) AS Quantidade\n",
    "FROM IngredienteComponenteQuimico icq\n",
    "JOIN Ingrediente i ON icq.ingrediente_id = i.id\n",
    "JOIN Categoria c ON i.grupo_id = c.id\n",
    "JOIN ComponenteQuimico cq ON icq.componenteQuimico_id = cq.id\n",
    "WHERE c.id = 6\n",
    "GROUP BY cq.formula\n",
    "ORDER BY Quantidade ASC\n",
    "LIMIT 10;"
   ]
  }
 ],
 "metadata": {
  "kernelspec": {
   "display_name": "SQL",
   "language": "SQL",
   "name": "sql"
  },
  "language_info": {
   "codemirror_mode": "sql",
   "file_extension": ".sql",
   "mimetype": "",
   "name": "SQL",
   "nbconverter_exporter": "",
   "version": ""
  },
  "toc": {
   "base_numbering": 1,
   "nav_menu": {},
   "number_sections": false,
   "sideBar": false,
   "skip_h1_title": false,
   "title_cell": "Table of Contents",
   "title_sidebar": "Contents",
   "toc_cell": false,
   "toc_position": {},
   "toc_section_display": false,
   "toc_window_display": false
  }
 },
 "nbformat": 4,
 "nbformat_minor": 4
}
