{
 "cells": [
  {
   "cell_type": "markdown",
   "metadata": {},
   "source": [
    "# Modelo Relacional\n",
    "\n",
    "Categoria(_id_, nome)\n",
    "\n",
    "Regiao(_id_, nome)\n",
    "\n",
    "Grupo(_id_, nome)\n",
    "\n",
    "Receita(_id_, titulo, fonte, instrucoes, regiao_id, categoria_id)\n",
    "  regiao_id chave estrangeira -> Regiao(id)\n",
    "  categoria_id chave estrangeira -> Categoria(id)\n",
    "\n",
    "Ingrediente(_id_, nome, grupo_id)\n",
    "  grupo_id chave estrangeira -> Grupo(id)\n",
    "\n",
    "ReceitaIngrediente(_receita_id_, _ingrediente_id_, qtde)\n",
    "  _receita_id_ chave estrangeira -> Receita(id)\n",
    "  _ingrediente_id_ chave estrangeira -> Ingrediente(id)\n",
    "\n",
    "Nutriente(_id_, nome)\n",
    "\n",
    "IngredienteNutriente(_ingrediente_id_, _nutriente_id_, valor, min, max)\n",
    "  _ingrediente_id_ chave estrangeira -> Ingrediente(id)\n",
    "  _nutriente_id_ chave estrangeira -> Nutriente(id)\n",
    "\n",
    "ComponenteQuimico(_id_, nome, formula)\n",
    "\n",
    "IngredienteComponenteQuimico(_ingrediente_id_, _componenteQuimico_id_)\n",
    "  _ingrediente_id_ chave estrangeira -> Ingrediente(id)\n",
    "  _componenteQuimico_id_ chave estrangeira -> ComponenteQuimico(id)\n"
   ]
  },
  {
   "cell_type": "code",
   "execution_count": 1,
   "metadata": {},
   "outputs": [
    {
     "name": "stderr",
     "output_type": "stream",
     "text": [
      "UsageError: Line magic function `%defaultDatasource` not found.\n"
     ]
    }
   ],
   "source": [
    "%defaultDatasource jdbc:h2:mem:db"
   ]
  },
  {
   "cell_type": "code",
   "execution_count": 5,
   "metadata": {
    "vscode": {
     "languageId": "sql"
    }
   },
   "outputs": [
    {
     "ename": "IndentationError",
     "evalue": "unexpected indent (1140945666.py, line 2)",
     "output_type": "error",
     "traceback": [
      "\u001b[1;36m  Cell \u001b[1;32mIn[5], line 2\u001b[1;36m\u001b[0m\n\u001b[1;33m    id_ INTEGER PRIMARY KEY,\u001b[0m\n\u001b[1;37m    ^\u001b[0m\n\u001b[1;31mIndentationError\u001b[0m\u001b[1;31m:\u001b[0m unexpected indent\n"
     ]
    }
   ],
   "source": [
    "%sql CREATE TABLE Categoria (\n",
    "  id_ INTEGER PRIMARY KEY,\n",
    "  nome VARCHAR(255) NOT NULL\n",
    ") AS SELECT\n",
    "  id_, nome\n",
    "FROM CSVREAD('../../data/processed/p_categories.csv');\n",
    "\n",
    "\n",
    "%sql CREATE TABLE Regiao (\n",
    "  id_ INT PRIMARY KEY,\n",
    "  nome VARCHAR(255) NOT NULL\n",
    ") AS SELECT\n",
    "  id_, nome\n",
    "FROM CSVREAD('../../data/processed/p_regions.csv');\n",
    "\n",
    "\n",
    "%sql CREATE TABLE Grupo (\n",
    "  id_ INT PRIMARY KEY,\n",
    "  nome VARCHAR(255) NOT NULL\n",
    ") AS SELECT\n",
    "  id_, nome\n",
    "FROM CSVREAD('../../data/processed/p_groups');\n",
    "\n",
    "\n",
    "%sql CREATE TABLE Receita (\n",
    "  id_ INT PRIMARY KEY,\n",
    "  titulo VARCHAR(255) NOT NULL,\n",
    "  fonte VARCHAR(255),\n",
    "  instrucoes TEXT,\n",
    "  regiao_id INT,\n",
    "  categoria_id INT,\n",
    "  FOREIGN KEY (regiao_id) REFERENCES Regiao(_id_),\n",
    "  FOREIGN KEY (categoria_id) REFERENCES Categoria(_id_)\n",
    ") AS SELECT\n",
    "  _id_, titulo, fonte, instrucoes, regiao_id, categoria_id\n",
    "FROM CSVREAD('../../data/processed/p_recipes.csv');\n",
    "\n",
    "\n",
    "%sql CREATE TABLE Ingrediente (\n",
    "  id_ INT PRIMARY KEY,\n",
    "  nome VARCHAR(255) NOT NULL,\n",
    "  grupo_id INT,\n",
    "  FOREIGN KEY (grupo_id) REFERENCES Grupo(_id_)\n",
    ") AS SELECT\n",
    "  id_, nome, grupo_id\n",
    "FROM CSVREAD('../../data/processed/p_ingredients.csv');\n",
    "\n",
    "\n",
    "%sql CREATE TABLE ReceitaIngrediente (\n",
    "  receita_id_ INT,\n",
    "  ingrediente_id_ INT,\n",
    "  qtde INT,\n",
    "  PRIMARY KEY (_receita_id_, _ingrediente_id_),\n",
    "  FOREIGN KEY (_receita_id_) REFERENCES Receita(_id_),\n",
    "  FOREIGN KEY (_ingrediente_id_) REFERENCES Ingrediente(_id_)\n",
    ") AS SELECT\n",
    "  _receita_id, _ingrediente_id_, qtde\n",
    "FROM CSVREAD('../../data/processed/p_ingredients_recipes.csv');\n",
    "\n",
    "%sql CREATE TABLE Nutriente (\n",
    "  id_ INT PRIMARY KEY,\n",
    "  nome VARCHAR(255) NOT NULL\n",
    ") AS SELECT\n",
    "  id_, nome\n",
    "FROM CSVREAD('../../data/processed/p_nutrients.csv');\n",
    "\n",
    "\n",
    "%sql CREATE TABLE IngredienteNutriente (\n",
    "  ingrediente_id_ INT,\n",
    "  nutriente_id_ INT,\n",
    "  valor DOUBLE,\n",
    "  min DOUBLE,\n",
    "  max DOUBLE,\n",
    "  PRIMARY KEY (_ingrediente_id_, _nutriente_id_),\n",
    "  FOREIGN KEY (_ingrediente_id_) REFERENCES Ingrediente(_id_),\n",
    "  FOREIGN KEY (_nutriente_id_) REFERENCES Nutriente(_id_)\n",
    ") AS SELECT\n",
    "  id_, nome\n",
    "FROM CSVREAD('../../data/processed/p_ingredients_nutrients.csv');\n",
    "\n",
    "\n",
    "%sql CREATE TABLE ComponenteQuimico (\n",
    "  id_ INT PRIMARY KEY,\n",
    "  nome VARCHAR(255) NOT NULL,\n",
    "  formula VARCHAR(255)\n",
    ") AS SELECT\n",
    "  id_, nome\n",
    "FROM CSVREAD('../../data/processed/p_compounds.csv');\n",
    "\n",
    "\n",
    "%sql CREATE TABLE IngredienteComponenteQuimico (\n",
    "  ingrediente_id_ INT,\n",
    "  componenteQuimico_id_ INT,\n",
    "  PRIMARY KEY (_ingrediente_id_, _componenteQuimico_id_),\n",
    "  FOREIGN KEY (_ingrediente_id_) REFERENCES Ingrediente(_id_),\n",
    "  FOREIGN KEY (_componenteQuimico_id_) REFERENCES ComponenteQuimico(_id_)\n",
    ") AS SELECT\n",
    "  id_, nome\n",
    "FROM CSVREAD('../../data/processed/p_ingredients_compounds.csv');"
   ]
  },
  {
   "cell_type": "code",
   "execution_count": null,
   "metadata": {
    "vscode": {
     "languageId": "sql"
    }
   },
   "outputs": [],
   "source": [
    "1 - Quais os ingredientes que compõem determinadas receitas?\n",
    "SELECT r.titulo AS receita, i.nome AS ingrediente, ri.qtde\n",
    "FROM ReceitaIngrediente ri\n",
    "JOIN Receita r ON ri._receita_id_ = r._id_\n",
    "JOIN Ingrediente i ON ri._ingrediente_id_ = i._id_\n",
    "WHERE r.titulo = 'NomeDaReceita';"
   ]
  },
  {
   "cell_type": "code",
   "execution_count": 6,
   "metadata": {
    "vscode": {
     "languageId": "sql"
    }
   },
   "outputs": [],
   "source": [
    "2 - Quais os ingredientes mais consumidos e em cada região?\n",
    "SELECT r.regiao_id, i.nome AS ingrediente, SUM(ri.qtde) AS quantidade_consumida\n",
    "FROM ReceitaIngrediente ri\n",
    "JOIN Ingrediente i ON ri._ingrediente_id_ = i._id_\n",
    "JOIN Receita r ON ri._receita_id_ = r._id_\n",
    "GROUP BY r.regiao_id, i.nome\n",
    "ORDER BY quantidade_consumida DESC;"
   ]
  },
  {
   "cell_type": "code",
   "execution_count": null,
   "metadata": {
    "vscode": {
     "languageId": "sql"
    }
   },
   "outputs": [],
   "source": [
    "3 - Quais os nutrientes mais consumidos em cada região?\n",
    "SELECT r.regiao_id, n.nome AS nutriente, SUM(in.valor) AS quantidade_consumida\n",
    "FROM IngredienteNutriente in\n",
    "JOIN Nutriente n ON in._nutriente_id_ = n._id_\n",
    "JOIN Ingrediente i ON in._ingrediente_id_ = i._id_\n",
    "JOIN ReceitaIngrediente ri ON i._id_ = ri._ingrediente_id_\n",
    "JOIN Receita r ON ri._receita_id_ = r._id_\n",
    "GROUP BY r.regiao_id, n.nome\n",
    "ORDER BY quantidade_consumida DESC;"
   ]
  },
  {
   "cell_type": "code",
   "execution_count": null,
   "metadata": {
    "vscode": {
     "languageId": "sql"
    }
   },
   "outputs": [],
   "source": [
    "4 - Dado as receitas de determinada categoria, quais são os componentes (químicos) que menos aparecem e quais são os que mais aparecem?\n",
    "WITH ComponentesPorReceita AS (\n",
    "    SELECT r._id_ AS receita_id, cq.nome AS componente\n",
    "    FROM Receita r\n",
    "    JOIN ReceitaIngrediente ri ON r._id_ = ri._receita_id_\n",
    "    JOIN Ingrediente i ON ri._ingrediente_id_ = i._id_\n",
    "    JOIN IngredienteComponenteQuimico icq ON i._id_ = icq._ingrediente_id_\n",
    "    JOIN ComponenteQuimico cq ON icq._componenteQuimico_id_ = cq._id_\n",
    "    WHERE r.categoria_id = 'sua_categoria_id'\n",
    ")\n",
    "SELECT componente, COUNT(receita_id) AS quantidade\n",
    "FROM ComponentesPorReceita\n",
    "GROUP BY componente\n",
    "ORDER BY quantidade DESC;"
   ]
  }
 ],
 "metadata": {
  "kernelspec": {
   "display_name": "Python 3 (ipykernel)",
   "language": "python",
   "name": "python3"
  },
  "language_info": {
   "codemirror_mode": {
    "name": "ipython",
    "version": 3
   },
   "file_extension": ".py",
   "mimetype": "text/x-python",
   "name": "python",
   "nbconvert_exporter": "python",
   "pygments_lexer": "ipython3",
   "version": "3.11.5"
  },
  "toc": {
   "base_numbering": 1,
   "nav_menu": {},
   "number_sections": false,
   "sideBar": false,
   "skip_h1_title": false,
   "title_cell": "Table of Contents",
   "title_sidebar": "Contents",
   "toc_cell": false,
   "toc_position": {},
   "toc_section_display": false,
   "toc_window_display": false
  }
 },
 "nbformat": 4,
 "nbformat_minor": 4
}
